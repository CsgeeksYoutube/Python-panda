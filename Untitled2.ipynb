{
 "cells": [
  {
   "cell_type": "code",
   "execution_count": 1,
   "id": "820757a5",
   "metadata": {},
   "outputs": [],
   "source": [
    "import pandas as pd\n",
    "import numpy as np"
   ]
  },
  {
   "cell_type": "code",
   "execution_count": 3,
   "id": "e3d61859",
   "metadata": {},
   "outputs": [],
   "source": [
    "df1= pd.DataFrame({'employee':['Ajay','Vijay','Adam','Rohit'],\n",
    "                  'department':['Data Science','Web Development','Data Science','Cyber Security'],\n",
    "                  'Year':['2005','2011','2022','1995']})\n",
    "df2= pd.DataFrame({'employee':['Vijay','Adam','Rohit','Ajay'],\n",
    "                  'city':['Delhi','Haldwani','Nanital','Dehradun'],\n",
    "                  'salary':['20000','21100','22200','25000'],\n",
    "                  'Year':['2005','2011','2022','1995']})\n",
    "df3= pd.DataFrame({'manager':['Karan','Ramesh','Neel'],\n",
    "                  'department':['Data Science','Web Development','Cyber Security']})\n",
    "df6= pd.DataFrame({'department':['Data Science','Web Development','Web Development','Data Science','Cyber Security',\n",
    "                                 'Cyber Security'],\n",
    "                  'programming':['PYTHON','HTML','CSS','R','C++','SQL']})"
   ]
  },
  {
   "cell_type": "code",
   "execution_count": 4,
   "id": "74f387af",
   "metadata": {},
   "outputs": [
    {
     "data": {
      "text/html": [
       "<div>\n",
       "<style scoped>\n",
       "    .dataframe tbody tr th:only-of-type {\n",
       "        vertical-align: middle;\n",
       "    }\n",
       "\n",
       "    .dataframe tbody tr th {\n",
       "        vertical-align: top;\n",
       "    }\n",
       "\n",
       "    .dataframe thead th {\n",
       "        text-align: right;\n",
       "    }\n",
       "</style>\n",
       "<table border=\"1\" class=\"dataframe\">\n",
       "  <thead>\n",
       "    <tr style=\"text-align: right;\">\n",
       "      <th></th>\n",
       "      <th>employee</th>\n",
       "      <th>department</th>\n",
       "      <th>Year</th>\n",
       "    </tr>\n",
       "  </thead>\n",
       "  <tbody>\n",
       "    <tr>\n",
       "      <th>0</th>\n",
       "      <td>Ajay</td>\n",
       "      <td>Data Science</td>\n",
       "      <td>2005</td>\n",
       "    </tr>\n",
       "    <tr>\n",
       "      <th>1</th>\n",
       "      <td>Vijay</td>\n",
       "      <td>Web Development</td>\n",
       "      <td>2011</td>\n",
       "    </tr>\n",
       "    <tr>\n",
       "      <th>2</th>\n",
       "      <td>Adam</td>\n",
       "      <td>Data Science</td>\n",
       "      <td>2022</td>\n",
       "    </tr>\n",
       "    <tr>\n",
       "      <th>3</th>\n",
       "      <td>Rohit</td>\n",
       "      <td>Cyber Security</td>\n",
       "      <td>1995</td>\n",
       "    </tr>\n",
       "  </tbody>\n",
       "</table>\n",
       "</div>"
      ],
      "text/plain": [
       "  employee       department  Year\n",
       "0     Ajay     Data Science  2005\n",
       "1    Vijay  Web Development  2011\n",
       "2     Adam     Data Science  2022\n",
       "3    Rohit   Cyber Security  1995"
      ]
     },
     "execution_count": 4,
     "metadata": {},
     "output_type": "execute_result"
    }
   ],
   "source": [
    "df1"
   ]
  },
  {
   "cell_type": "code",
   "execution_count": 10,
   "id": "60b88c15",
   "metadata": {},
   "outputs": [],
   "source": [
    "df9=df1.to_txt(\"data_set2.xlsx\")"
   ]
  },
  {
   "cell_type": "code",
   "execution_count": 12,
   "id": "563505dc",
   "metadata": {},
   "outputs": [],
   "source": [
    "df9=df1.to_csv(\"data_set3.txt\")"
   ]
  },
  {
   "cell_type": "code",
   "execution_count": null,
   "id": "38e85e44",
   "metadata": {},
   "outputs": [],
   "source": []
  }
 ],
 "metadata": {
  "kernelspec": {
   "display_name": "Python 3 (ipykernel)",
   "language": "python",
   "name": "python3"
  },
  "language_info": {
   "codemirror_mode": {
    "name": "ipython",
    "version": 3
   },
   "file_extension": ".py",
   "mimetype": "text/x-python",
   "name": "python",
   "nbconvert_exporter": "python",
   "pygments_lexer": "ipython3",
   "version": "3.9.13"
  }
 },
 "nbformat": 4,
 "nbformat_minor": 5
}
