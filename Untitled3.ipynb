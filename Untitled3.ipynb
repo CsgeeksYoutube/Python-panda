{
 "cells": [
  {
   "cell_type": "code",
   "execution_count": 1,
   "id": "5fb7c239",
   "metadata": {},
   "outputs": [],
   "source": [
    "import pandas as pd"
   ]
  },
  {
   "cell_type": "code",
   "execution_count": 2,
   "id": "0f81517d",
   "metadata": {},
   "outputs": [],
   "source": [
    "import numpy as np"
   ]
  },
  {
   "cell_type": "code",
   "execution_count": null,
   "id": "fe6bbc58",
   "metadata": {},
   "outputs": [],
   "source": [
    "df1= pd.DataFrame({'P':['P0','P1','P2'],\n",
    "                  'Q':['Q0','Q2','Q3']}, index= ['A0','A1','A2'])\n",
    "\n",
    "df2= pd.DataFrame({'W':['W0','W1','W2'],\n",
    "                  'E':['E0','E2','E3']}, index= ['A0','A1','A2'])\n",
    "\n",
    "df3= pd.DataFrame({'key':['P0','P1','P2','P3','P4','P5'],\n",
    "                  'Q':['Q0','Q2','Q3','Q4','Q5','Q6']})\n",
    "\n",
    "df4= pd.DataFrame({'key':['P0','P1','P2'],\n",
    "                  'E':['E0','E2','E3']})"
   ]
  }
 ],
 "metadata": {
  "kernelspec": {
   "display_name": "Python 3 (ipykernel)",
   "language": "python",
   "name": "python3"
  },
  "language_info": {
   "codemirror_mode": {
    "name": "ipython",
    "version": 3
   },
   "file_extension": ".py",
   "mimetype": "text/x-python",
   "name": "python",
   "nbconvert_exporter": "python",
   "pygments_lexer": "ipython3",
   "version": "3.9.13"
  }
 },
 "nbformat": 4,
 "nbformat_minor": 5
}
